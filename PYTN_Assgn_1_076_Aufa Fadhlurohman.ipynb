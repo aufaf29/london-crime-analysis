{
 "cells": [
  {
   "cell_type": "markdown",
   "metadata": {
    "id": "JonfB1MS3nbW"
   },
   "source": [
    "<div style=\"padding: 10px 20px; background-color: #FFFFFF; text-align: center;\">\n",
    "    <img src=\"https://global-uploads.webflow.com/5f0d53c042a9ed6288de7f8d/5f6337ae2cfaa10946ceeb06_Hacktiv8%20logo%20horizontal%2001%20black-p-500.png\" \n",
    "         width=400 \n",
    "         style=\"margin: 5px auto !important;\">\n",
    "    <h1 align=center>Hacktiv8 PTP Introduction to Data Science Projects 1</h1>\n",
    "    <h3 align=center>Analisis Kriminalitas Wilayah Administrasi London Raya (Januari 2008 s/d Desember 2016)</h3>\n",
    "</div>"
   ]
  },
  {
   "cell_type": "markdown",
   "metadata": {},
   "source": [
    "## Pendahuluan"
   ]
  },
  {
   "cell_type": "markdown",
   "metadata": {
    "id": "nWZv6Tf43nbf"
   },
   "source": [
    "### Deskripsi Permasalahan"
   ]
  },
  {
   "cell_type": "markdown",
   "metadata": {},
   "source": [
    "Wilayah administrasi London Raya terdiri dari 33 sektor (borough), dimana setiap sektor memiliki pemerintahannya sendiri. Tujuan dari analisis ini adalah untuk mengetahui tindak kriminalitas yang terjadi di Wilayah administrasi London Raya dan setiap sektornya pada rentang bulan Januari 2008 hingga Desember 2016. Dataset yang menjadi dasar analisis memiliki beberapa atribut data yaitu sebagai berikut:\n",
    "\n",
    "* `lsoa_code`: kode area administrasi dan demografis\n",
    "* `borough`: sektor dari Wilayah administrasi London Raya\n",
    "* `major_category`: kategori kriminalitas mayor\n",
    "* `minor_category`: kategori kriminalitas minor\n",
    "* `value`: jumlah kejadian tindak kriminalitas sesuai dengan sektor dan waktu (bulan dan tahun)\n",
    "* `year`: tahun pendataan\n",
    "* `month`: bulan pendataan\n",
    "\n",
    "Analisis yang dilakukan didasarkan oleh data dan memiliki tujuan utama untuk menurunkan beberapa kesimpulan yang terlihat dari data keseluruhan dan juga melihat pola atau kejadian menarik yang teramati dalam data,"
   ]
  },
  {
   "cell_type": "markdown",
   "metadata": {},
   "source": [
    "## Data Overview"
   ]
  },
  {
   "cell_type": "markdown",
   "metadata": {},
   "source": [
    "### Import Pustaka"
   ]
  },
  {
   "cell_type": "code",
   "execution_count": 49,
   "metadata": {
    "execution": {
     "iopub.execute_input": "2022-03-05T18:53:03.861699Z",
     "iopub.status.busy": "2022-03-05T18:53:03.861304Z",
     "iopub.status.idle": "2022-03-05T18:53:03.866148Z",
     "shell.execute_reply": "2022-03-05T18:53:03.865558Z",
     "shell.execute_reply.started": "2022-03-05T18:53:03.861653Z"
    },
    "id": "4eVMYi5u3nbj"
   },
   "outputs": [],
   "source": [
    "import numpy as np\n",
    "import pandas as pd\n",
    "\n",
    "pd.options.mode.chained_assignment = None"
   ]
  },
  {
   "cell_type": "markdown",
   "metadata": {},
   "source": [
    "### Persiapan Data"
   ]
  },
  {
   "cell_type": "code",
   "execution_count": 13,
   "metadata": {
    "execution": {
     "iopub.execute_input": "2022-03-05T18:53:03.867818Z",
     "iopub.status.busy": "2022-03-05T18:53:03.867553Z",
     "iopub.status.idle": "2022-03-05T18:53:25.318377Z",
     "shell.execute_reply": "2022-03-05T18:53:25.317558Z",
     "shell.execute_reply.started": "2022-03-05T18:53:03.867789Z"
    },
    "executionInfo": {
     "elapsed": 10,
     "status": "error",
     "timestamp": 1645801470368,
     "user": {
      "displayName": "Syaipul Anwar",
      "photoUrl": "https://lh3.googleusercontent.com/a/default-user=s64",
      "userId": "04337893268903372309"
     },
     "user_tz": -420
    },
    "id": "f3ZPoDSG3nbl",
    "outputId": "6390dd3b-71b4-4b1a-a090-93df8a6b76ab"
   },
   "outputs": [],
   "source": [
    "df = pd.read_csv('datasets/london_crime_by_lsoa.csv')"
   ]
  },
  {
   "cell_type": "markdown",
   "metadata": {},
   "source": [
    "### Preprocessing"
   ]
  },
  {
   "cell_type": "markdown",
   "metadata": {},
   "source": [
    "#### Cuplikan Data"
   ]
  },
  {
   "cell_type": "code",
   "execution_count": 23,
   "metadata": {
    "execution": {
     "iopub.execute_input": "2022-03-05T18:53:25.319926Z",
     "iopub.status.busy": "2022-03-05T18:53:25.319699Z",
     "iopub.status.idle": "2022-03-05T18:53:25.346591Z",
     "shell.execute_reply": "2022-03-05T18:53:25.345543Z",
     "shell.execute_reply.started": "2022-03-05T18:53:25.319898Z"
    },
    "id": "xRObHe_A3nbm"
   },
   "outputs": [
    {
     "data": {
      "text/html": [
       "<div>\n",
       "<style scoped>\n",
       "    .dataframe tbody tr th:only-of-type {\n",
       "        vertical-align: middle;\n",
       "    }\n",
       "\n",
       "    .dataframe tbody tr th {\n",
       "        vertical-align: top;\n",
       "    }\n",
       "\n",
       "    .dataframe thead th {\n",
       "        text-align: right;\n",
       "    }\n",
       "</style>\n",
       "<table border=\"1\" class=\"dataframe\">\n",
       "  <thead>\n",
       "    <tr style=\"text-align: right;\">\n",
       "      <th></th>\n",
       "      <th>lsoa_code</th>\n",
       "      <th>borough</th>\n",
       "      <th>major_category</th>\n",
       "      <th>minor_category</th>\n",
       "      <th>value</th>\n",
       "      <th>year</th>\n",
       "      <th>month</th>\n",
       "    </tr>\n",
       "  </thead>\n",
       "  <tbody>\n",
       "    <tr>\n",
       "      <th>0</th>\n",
       "      <td>E01001116</td>\n",
       "      <td>Croydon</td>\n",
       "      <td>Burglary</td>\n",
       "      <td>Burglary in Other Buildings</td>\n",
       "      <td>0</td>\n",
       "      <td>2016</td>\n",
       "      <td>11</td>\n",
       "    </tr>\n",
       "    <tr>\n",
       "      <th>1</th>\n",
       "      <td>E01001646</td>\n",
       "      <td>Greenwich</td>\n",
       "      <td>Violence Against the Person</td>\n",
       "      <td>Other violence</td>\n",
       "      <td>0</td>\n",
       "      <td>2016</td>\n",
       "      <td>11</td>\n",
       "    </tr>\n",
       "    <tr>\n",
       "      <th>2</th>\n",
       "      <td>E01000677</td>\n",
       "      <td>Bromley</td>\n",
       "      <td>Violence Against the Person</td>\n",
       "      <td>Other violence</td>\n",
       "      <td>0</td>\n",
       "      <td>2015</td>\n",
       "      <td>5</td>\n",
       "    </tr>\n",
       "    <tr>\n",
       "      <th>3</th>\n",
       "      <td>E01003774</td>\n",
       "      <td>Redbridge</td>\n",
       "      <td>Burglary</td>\n",
       "      <td>Burglary in Other Buildings</td>\n",
       "      <td>0</td>\n",
       "      <td>2016</td>\n",
       "      <td>3</td>\n",
       "    </tr>\n",
       "    <tr>\n",
       "      <th>4</th>\n",
       "      <td>E01004563</td>\n",
       "      <td>Wandsworth</td>\n",
       "      <td>Robbery</td>\n",
       "      <td>Personal Property</td>\n",
       "      <td>0</td>\n",
       "      <td>2008</td>\n",
       "      <td>6</td>\n",
       "    </tr>\n",
       "    <tr>\n",
       "      <th>...</th>\n",
       "      <td>...</td>\n",
       "      <td>...</td>\n",
       "      <td>...</td>\n",
       "      <td>...</td>\n",
       "      <td>...</td>\n",
       "      <td>...</td>\n",
       "      <td>...</td>\n",
       "    </tr>\n",
       "    <tr>\n",
       "      <th>13490599</th>\n",
       "      <td>E01000504</td>\n",
       "      <td>Brent</td>\n",
       "      <td>Criminal Damage</td>\n",
       "      <td>Criminal Damage To Dwelling</td>\n",
       "      <td>0</td>\n",
       "      <td>2015</td>\n",
       "      <td>2</td>\n",
       "    </tr>\n",
       "    <tr>\n",
       "      <th>13490600</th>\n",
       "      <td>E01002504</td>\n",
       "      <td>Hillingdon</td>\n",
       "      <td>Robbery</td>\n",
       "      <td>Personal Property</td>\n",
       "      <td>1</td>\n",
       "      <td>2015</td>\n",
       "      <td>6</td>\n",
       "    </tr>\n",
       "    <tr>\n",
       "      <th>13490601</th>\n",
       "      <td>E01004165</td>\n",
       "      <td>Sutton</td>\n",
       "      <td>Burglary</td>\n",
       "      <td>Burglary in a Dwelling</td>\n",
       "      <td>0</td>\n",
       "      <td>2011</td>\n",
       "      <td>2</td>\n",
       "    </tr>\n",
       "    <tr>\n",
       "      <th>13490602</th>\n",
       "      <td>E01001134</td>\n",
       "      <td>Croydon</td>\n",
       "      <td>Robbery</td>\n",
       "      <td>Business Property</td>\n",
       "      <td>0</td>\n",
       "      <td>2011</td>\n",
       "      <td>5</td>\n",
       "    </tr>\n",
       "    <tr>\n",
       "      <th>13490603</th>\n",
       "      <td>E01003413</td>\n",
       "      <td>Merton</td>\n",
       "      <td>Violence Against the Person</td>\n",
       "      <td>Wounding/GBH</td>\n",
       "      <td>0</td>\n",
       "      <td>2015</td>\n",
       "      <td>6</td>\n",
       "    </tr>\n",
       "  </tbody>\n",
       "</table>\n",
       "<p>13490604 rows × 7 columns</p>\n",
       "</div>"
      ],
      "text/plain": [
       "          lsoa_code     borough               major_category  \\\n",
       "0         E01001116     Croydon                     Burglary   \n",
       "1         E01001646   Greenwich  Violence Against the Person   \n",
       "2         E01000677     Bromley  Violence Against the Person   \n",
       "3         E01003774   Redbridge                     Burglary   \n",
       "4         E01004563  Wandsworth                      Robbery   \n",
       "...             ...         ...                          ...   \n",
       "13490599  E01000504       Brent              Criminal Damage   \n",
       "13490600  E01002504  Hillingdon                      Robbery   \n",
       "13490601  E01004165      Sutton                     Burglary   \n",
       "13490602  E01001134     Croydon                      Robbery   \n",
       "13490603  E01003413      Merton  Violence Against the Person   \n",
       "\n",
       "                       minor_category  value  year  month  \n",
       "0         Burglary in Other Buildings      0  2016     11  \n",
       "1                      Other violence      0  2016     11  \n",
       "2                      Other violence      0  2015      5  \n",
       "3         Burglary in Other Buildings      0  2016      3  \n",
       "4                   Personal Property      0  2008      6  \n",
       "...                               ...    ...   ...    ...  \n",
       "13490599  Criminal Damage To Dwelling      0  2015      2  \n",
       "13490600            Personal Property      1  2015      6  \n",
       "13490601       Burglary in a Dwelling      0  2011      2  \n",
       "13490602            Business Property      0  2011      5  \n",
       "13490603                 Wounding/GBH      0  2015      6  \n",
       "\n",
       "[13490604 rows x 7 columns]"
      ]
     },
     "execution_count": 23,
     "metadata": {},
     "output_type": "execute_result"
    }
   ],
   "source": [
    "df"
   ]
  },
  {
   "cell_type": "markdown",
   "metadata": {},
   "source": [
    "- Line chart : trend total kriminalitas dari tahun ke tahun, trend total kriminalitas dari bulan ke bulan, trend data total kriminalitas dari tahun ke tahun berdasarkan major categorynya, trend data total kriminalitas dari bulan ke bulan berdasarkan major categorynya, dan dari tahun ke tahun berdasarkan discrictnya\n",
    "- Area chart : stacked areachart untuk menunjukkan major category yang paling dominan dan perkembangannya, dan juga buat berdasarkan district nya\n",
    "- Histogram, sumbu xnya jumlah kriminal, sumbu y nya banyaknya distric"
   ]
  },
  {
   "cell_type": "code",
   "execution_count": 15,
   "metadata": {
    "execution": {
     "iopub.execute_input": "2022-03-05T18:53:25.365819Z",
     "iopub.status.busy": "2022-03-05T18:53:25.365552Z",
     "iopub.status.idle": "2022-03-05T18:53:25.396262Z",
     "shell.execute_reply": "2022-03-05T18:53:25.395137Z",
     "shell.execute_reply.started": "2022-03-05T18:53:25.365790Z"
    },
    "id": "TXDlAeI83nbo"
   },
   "outputs": [
    {
     "name": "stdout",
     "output_type": "stream",
     "text": [
      "<class 'pandas.core.frame.DataFrame'>\n",
      "RangeIndex: 13490604 entries, 0 to 13490603\n",
      "Data columns (total 7 columns):\n",
      " #   Column          Dtype \n",
      "---  ------          ----- \n",
      " 0   lsoa_code       object\n",
      " 1   borough         object\n",
      " 2   major_category  object\n",
      " 3   minor_category  object\n",
      " 4   value           int64 \n",
      " 5   year            int64 \n",
      " 6   month           int64 \n",
      "dtypes: int64(3), object(4)\n",
      "memory usage: 720.5+ MB\n"
     ]
    }
   ],
   "source": [
    "df.info()"
   ]
  },
  {
   "cell_type": "markdown",
   "metadata": {},
   "source": [
    "#### Cek Missing Values"
   ]
  },
  {
   "cell_type": "code",
   "execution_count": 16,
   "metadata": {
    "execution": {
     "iopub.execute_input": "2022-03-05T18:53:26.020330Z",
     "iopub.status.busy": "2022-03-05T18:53:26.019989Z",
     "iopub.status.idle": "2022-03-05T18:53:31.801199Z",
     "shell.execute_reply": "2022-03-05T18:53:31.800229Z",
     "shell.execute_reply.started": "2022-03-05T18:53:26.020287Z"
    }
   },
   "outputs": [
    {
     "data": {
      "text/plain": [
       "lsoa_code         0\n",
       "borough           0\n",
       "major_category    0\n",
       "minor_category    0\n",
       "value             0\n",
       "year              0\n",
       "month             0\n",
       "dtype: int64"
      ]
     },
     "execution_count": 16,
     "metadata": {},
     "output_type": "execute_result"
    }
   ],
   "source": [
    "df.isnull().sum()"
   ]
  },
  {
   "cell_type": "markdown",
   "metadata": {},
   "source": [
    "#### Eksplorasi dan Pengenalan Tiap Kolom"
   ]
  },
  {
   "cell_type": "code",
   "execution_count": 17,
   "metadata": {},
   "outputs": [
    {
     "name": "stdout",
     "output_type": "stream",
     "text": [
      "lsoa_code\n",
      "=> Amount unique values \t:  4835\n",
      "=> Percentage unique values \t:  < 0.1 %\n",
      "=> Overview values\n",
      "['E01001116' 'E01001646' 'E01000677' 'E01003774' 'E01004563']\n",
      "\n",
      "borough\n",
      "=> Amount unique values \t:  33\n",
      "=> Percentage unique values \t:  < 0.1 %\n",
      "=> Overview values\n",
      "['Croydon' 'Greenwich' 'Bromley' 'Redbridge' 'Wandsworth']\n",
      "\n",
      "major_category\n",
      "=> Amount unique values \t:  9\n",
      "=> Percentage unique values \t:  < 0.1 %\n",
      "=> Overview values\n",
      "['Burglary' 'Violence Against the Person' 'Robbery' 'Theft and Handling'\n",
      " 'Criminal Damage']\n",
      "\n",
      "minor_category\n",
      "=> Amount unique values \t:  32\n",
      "=> Percentage unique values \t:  < 0.1 %\n",
      "=> Overview values\n",
      "['Burglary in Other Buildings' 'Other violence' 'Personal Property'\n",
      " 'Other Theft' 'Offensive Weapon']\n",
      "\n",
      "value\n",
      "=> Amount unique values \t:  247\n",
      "=> Percentage unique values \t:  < 0.1 %\n",
      "=> Overview values\n",
      "[0 1 2 3 4]\n",
      "\n",
      "year\n",
      "=> Amount unique values \t:  9\n",
      "=> Percentage unique values \t:  < 0.1 %\n",
      "=> Overview values\n",
      "[2016 2015 2008 2012 2010]\n",
      "\n",
      "month\n",
      "=> Amount unique values \t:  12\n",
      "=> Percentage unique values \t:  < 0.1 %\n",
      "=> Overview values\n",
      "[11  5  3  6  7]\n",
      "\n"
     ]
    }
   ],
   "source": [
    "for column in df.columns:\n",
    "    unique_value = df[column].unique()\n",
    "    unique_value_percentage = len(unique_value)*100/df.shape[0]\n",
    "    \n",
    "    print(column)\n",
    "    print(\"=> Amount unique values \\t: \", len(unique_value))\n",
    "    print(\"=> Percentage unique values \\t: \", \"< 0.1 %\"  if unique_value_percentage < 0.1 else \"{:.2f}\".format(unique_value_percentage))\n",
    "    print(\"=> Overview values\")\n",
    "    print(unique_value[:5])\n",
    "    print()"
   ]
  },
  {
   "cell_type": "markdown",
   "metadata": {},
   "source": [
    "Berdasarkan informasi di atas, ditemukan bahwa pada data tidak terdapat missing values ataupun values yang mencurigakan. Dapat dilihat juga bahwa values dari setiap atribut terbatas variasinya."
   ]
  },
  {
   "cell_type": "markdown",
   "metadata": {},
   "source": [
    "#### Penambahan Kolom Turunan"
   ]
  },
  {
   "cell_type": "code",
   "execution_count": 50,
   "metadata": {},
   "outputs": [],
   "source": [
    "df['periode'] = df.apply(lambda row: str(row.year) + \"-\" + (str(row.month) if row.month >= 10 else \"0\" + str(row.month)), axis = 1)"
   ]
  },
  {
   "cell_type": "code",
   "execution_count": 51,
   "metadata": {},
   "outputs": [
    {
     "data": {
      "text/html": [
       "<div>\n",
       "<style scoped>\n",
       "    .dataframe tbody tr th:only-of-type {\n",
       "        vertical-align: middle;\n",
       "    }\n",
       "\n",
       "    .dataframe tbody tr th {\n",
       "        vertical-align: top;\n",
       "    }\n",
       "\n",
       "    .dataframe thead th {\n",
       "        text-align: right;\n",
       "    }\n",
       "</style>\n",
       "<table border=\"1\" class=\"dataframe\">\n",
       "  <thead>\n",
       "    <tr style=\"text-align: right;\">\n",
       "      <th></th>\n",
       "      <th>lsoa_code</th>\n",
       "      <th>borough</th>\n",
       "      <th>major_category</th>\n",
       "      <th>minor_category</th>\n",
       "      <th>value</th>\n",
       "      <th>year</th>\n",
       "      <th>month</th>\n",
       "      <th>periode</th>\n",
       "    </tr>\n",
       "  </thead>\n",
       "  <tbody>\n",
       "    <tr>\n",
       "      <th>0</th>\n",
       "      <td>E01001116</td>\n",
       "      <td>Croydon</td>\n",
       "      <td>Burglary</td>\n",
       "      <td>Burglary in Other Buildings</td>\n",
       "      <td>0</td>\n",
       "      <td>2016</td>\n",
       "      <td>11</td>\n",
       "      <td>2016-11</td>\n",
       "    </tr>\n",
       "    <tr>\n",
       "      <th>1</th>\n",
       "      <td>E01001646</td>\n",
       "      <td>Greenwich</td>\n",
       "      <td>Violence Against the Person</td>\n",
       "      <td>Other violence</td>\n",
       "      <td>0</td>\n",
       "      <td>2016</td>\n",
       "      <td>11</td>\n",
       "      <td>2016-11</td>\n",
       "    </tr>\n",
       "    <tr>\n",
       "      <th>2</th>\n",
       "      <td>E01000677</td>\n",
       "      <td>Bromley</td>\n",
       "      <td>Violence Against the Person</td>\n",
       "      <td>Other violence</td>\n",
       "      <td>0</td>\n",
       "      <td>2015</td>\n",
       "      <td>5</td>\n",
       "      <td>2015-05</td>\n",
       "    </tr>\n",
       "    <tr>\n",
       "      <th>3</th>\n",
       "      <td>E01003774</td>\n",
       "      <td>Redbridge</td>\n",
       "      <td>Burglary</td>\n",
       "      <td>Burglary in Other Buildings</td>\n",
       "      <td>0</td>\n",
       "      <td>2016</td>\n",
       "      <td>3</td>\n",
       "      <td>2016-03</td>\n",
       "    </tr>\n",
       "    <tr>\n",
       "      <th>4</th>\n",
       "      <td>E01004563</td>\n",
       "      <td>Wandsworth</td>\n",
       "      <td>Robbery</td>\n",
       "      <td>Personal Property</td>\n",
       "      <td>0</td>\n",
       "      <td>2008</td>\n",
       "      <td>6</td>\n",
       "      <td>2008-06</td>\n",
       "    </tr>\n",
       "    <tr>\n",
       "      <th>...</th>\n",
       "      <td>...</td>\n",
       "      <td>...</td>\n",
       "      <td>...</td>\n",
       "      <td>...</td>\n",
       "      <td>...</td>\n",
       "      <td>...</td>\n",
       "      <td>...</td>\n",
       "      <td>...</td>\n",
       "    </tr>\n",
       "    <tr>\n",
       "      <th>13490599</th>\n",
       "      <td>E01000504</td>\n",
       "      <td>Brent</td>\n",
       "      <td>Criminal Damage</td>\n",
       "      <td>Criminal Damage To Dwelling</td>\n",
       "      <td>0</td>\n",
       "      <td>2015</td>\n",
       "      <td>2</td>\n",
       "      <td>2015-02</td>\n",
       "    </tr>\n",
       "    <tr>\n",
       "      <th>13490600</th>\n",
       "      <td>E01002504</td>\n",
       "      <td>Hillingdon</td>\n",
       "      <td>Robbery</td>\n",
       "      <td>Personal Property</td>\n",
       "      <td>1</td>\n",
       "      <td>2015</td>\n",
       "      <td>6</td>\n",
       "      <td>2015-06</td>\n",
       "    </tr>\n",
       "    <tr>\n",
       "      <th>13490601</th>\n",
       "      <td>E01004165</td>\n",
       "      <td>Sutton</td>\n",
       "      <td>Burglary</td>\n",
       "      <td>Burglary in a Dwelling</td>\n",
       "      <td>0</td>\n",
       "      <td>2011</td>\n",
       "      <td>2</td>\n",
       "      <td>2011-02</td>\n",
       "    </tr>\n",
       "    <tr>\n",
       "      <th>13490602</th>\n",
       "      <td>E01001134</td>\n",
       "      <td>Croydon</td>\n",
       "      <td>Robbery</td>\n",
       "      <td>Business Property</td>\n",
       "      <td>0</td>\n",
       "      <td>2011</td>\n",
       "      <td>5</td>\n",
       "      <td>2011-05</td>\n",
       "    </tr>\n",
       "    <tr>\n",
       "      <th>13490603</th>\n",
       "      <td>E01003413</td>\n",
       "      <td>Merton</td>\n",
       "      <td>Violence Against the Person</td>\n",
       "      <td>Wounding/GBH</td>\n",
       "      <td>0</td>\n",
       "      <td>2015</td>\n",
       "      <td>6</td>\n",
       "      <td>2015-06</td>\n",
       "    </tr>\n",
       "  </tbody>\n",
       "</table>\n",
       "<p>13490604 rows × 8 columns</p>\n",
       "</div>"
      ],
      "text/plain": [
       "          lsoa_code     borough               major_category  \\\n",
       "0         E01001116     Croydon                     Burglary   \n",
       "1         E01001646   Greenwich  Violence Against the Person   \n",
       "2         E01000677     Bromley  Violence Against the Person   \n",
       "3         E01003774   Redbridge                     Burglary   \n",
       "4         E01004563  Wandsworth                      Robbery   \n",
       "...             ...         ...                          ...   \n",
       "13490599  E01000504       Brent              Criminal Damage   \n",
       "13490600  E01002504  Hillingdon                      Robbery   \n",
       "13490601  E01004165      Sutton                     Burglary   \n",
       "13490602  E01001134     Croydon                      Robbery   \n",
       "13490603  E01003413      Merton  Violence Against the Person   \n",
       "\n",
       "                       minor_category  value  year  month  periode  \n",
       "0         Burglary in Other Buildings      0  2016     11  2016-11  \n",
       "1                      Other violence      0  2016     11  2016-11  \n",
       "2                      Other violence      0  2015      5  2015-05  \n",
       "3         Burglary in Other Buildings      0  2016      3  2016-03  \n",
       "4                   Personal Property      0  2008      6  2008-06  \n",
       "...                               ...    ...   ...    ...      ...  \n",
       "13490599  Criminal Damage To Dwelling      0  2015      2  2015-02  \n",
       "13490600            Personal Property      1  2015      6  2015-06  \n",
       "13490601       Burglary in a Dwelling      0  2011      2  2011-02  \n",
       "13490602            Business Property      0  2011      5  2011-05  \n",
       "13490603                 Wounding/GBH      0  2015      6  2015-06  \n",
       "\n",
       "[13490604 rows x 8 columns]"
      ]
     },
     "execution_count": 51,
     "metadata": {},
     "output_type": "execute_result"
    }
   ],
   "source": [
    "df"
   ]
  },
  {
   "cell_type": "markdown",
   "metadata": {},
   "source": [
    "#### Pengurangan Ukuran Data Vertikal\n",
    "Dikarenakan jumlah data yang mencapai 13,5 juta baris, diperlukan waktu yang cukup lama untuk melakukan pemrosesan dan visualisasi. Setelah melihat overview data, diamati bahwa salah satu elemen yang membuat jumlah data membengkak adalah detail informasi lsoa_code. Terdapat 4835 lsoa_code yang tersebar dalam 33 borough, artinya rata-rata setiap borough memiliki 147 lsoa_code. Untuk itu, dibuat dataframe baru yang melakukan agregasi detail wilayah hingga tingkat borough. Perubahan ini dapat mereduksi jumlah data menjadi kurang dari 1% dari sebelumnya."
   ]
  },
  {
   "cell_type": "code",
   "execution_count": 65,
   "metadata": {},
   "outputs": [],
   "source": [
    "df_reduced = df.groupby(['borough', 'major_category', 'minor_category', 'year', 'month', 'periode'])[['value']].sum().reset_index() "
   ]
  },
  {
   "cell_type": "code",
   "execution_count": 66,
   "metadata": {},
   "outputs": [
    {
     "data": {
      "text/html": [
       "<div>\n",
       "<style scoped>\n",
       "    .dataframe tbody tr th:only-of-type {\n",
       "        vertical-align: middle;\n",
       "    }\n",
       "\n",
       "    .dataframe tbody tr th {\n",
       "        vertical-align: top;\n",
       "    }\n",
       "\n",
       "    .dataframe thead th {\n",
       "        text-align: right;\n",
       "    }\n",
       "</style>\n",
       "<table border=\"1\" class=\"dataframe\">\n",
       "  <thead>\n",
       "    <tr style=\"text-align: right;\">\n",
       "      <th></th>\n",
       "      <th>borough</th>\n",
       "      <th>major_category</th>\n",
       "      <th>minor_category</th>\n",
       "      <th>year</th>\n",
       "      <th>month</th>\n",
       "      <th>periode</th>\n",
       "      <th>value</th>\n",
       "    </tr>\n",
       "  </thead>\n",
       "  <tbody>\n",
       "    <tr>\n",
       "      <th>0</th>\n",
       "      <td>Barking and Dagenham</td>\n",
       "      <td>Burglary</td>\n",
       "      <td>Burglary in Other Buildings</td>\n",
       "      <td>2008</td>\n",
       "      <td>1</td>\n",
       "      <td>2008-01</td>\n",
       "      <td>55</td>\n",
       "    </tr>\n",
       "    <tr>\n",
       "      <th>1</th>\n",
       "      <td>Barking and Dagenham</td>\n",
       "      <td>Burglary</td>\n",
       "      <td>Burglary in Other Buildings</td>\n",
       "      <td>2008</td>\n",
       "      <td>2</td>\n",
       "      <td>2008-02</td>\n",
       "      <td>65</td>\n",
       "    </tr>\n",
       "    <tr>\n",
       "      <th>2</th>\n",
       "      <td>Barking and Dagenham</td>\n",
       "      <td>Burglary</td>\n",
       "      <td>Burglary in Other Buildings</td>\n",
       "      <td>2008</td>\n",
       "      <td>3</td>\n",
       "      <td>2008-03</td>\n",
       "      <td>55</td>\n",
       "    </tr>\n",
       "    <tr>\n",
       "      <th>3</th>\n",
       "      <td>Barking and Dagenham</td>\n",
       "      <td>Burglary</td>\n",
       "      <td>Burglary in Other Buildings</td>\n",
       "      <td>2008</td>\n",
       "      <td>4</td>\n",
       "      <td>2008-04</td>\n",
       "      <td>53</td>\n",
       "    </tr>\n",
       "    <tr>\n",
       "      <th>4</th>\n",
       "      <td>Barking and Dagenham</td>\n",
       "      <td>Burglary</td>\n",
       "      <td>Burglary in Other Buildings</td>\n",
       "      <td>2008</td>\n",
       "      <td>5</td>\n",
       "      <td>2008-05</td>\n",
       "      <td>55</td>\n",
       "    </tr>\n",
       "    <tr>\n",
       "      <th>...</th>\n",
       "      <td>...</td>\n",
       "      <td>...</td>\n",
       "      <td>...</td>\n",
       "      <td>...</td>\n",
       "      <td>...</td>\n",
       "      <td>...</td>\n",
       "      <td>...</td>\n",
       "    </tr>\n",
       "    <tr>\n",
       "      <th>112963</th>\n",
       "      <td>Westminster</td>\n",
       "      <td>Violence Against the Person</td>\n",
       "      <td>Wounding/GBH</td>\n",
       "      <td>2016</td>\n",
       "      <td>8</td>\n",
       "      <td>2016-08</td>\n",
       "      <td>99</td>\n",
       "    </tr>\n",
       "    <tr>\n",
       "      <th>112964</th>\n",
       "      <td>Westminster</td>\n",
       "      <td>Violence Against the Person</td>\n",
       "      <td>Wounding/GBH</td>\n",
       "      <td>2016</td>\n",
       "      <td>9</td>\n",
       "      <td>2016-09</td>\n",
       "      <td>105</td>\n",
       "    </tr>\n",
       "    <tr>\n",
       "      <th>112965</th>\n",
       "      <td>Westminster</td>\n",
       "      <td>Violence Against the Person</td>\n",
       "      <td>Wounding/GBH</td>\n",
       "      <td>2016</td>\n",
       "      <td>10</td>\n",
       "      <td>2016-10</td>\n",
       "      <td>105</td>\n",
       "    </tr>\n",
       "    <tr>\n",
       "      <th>112966</th>\n",
       "      <td>Westminster</td>\n",
       "      <td>Violence Against the Person</td>\n",
       "      <td>Wounding/GBH</td>\n",
       "      <td>2016</td>\n",
       "      <td>11</td>\n",
       "      <td>2016-11</td>\n",
       "      <td>96</td>\n",
       "    </tr>\n",
       "    <tr>\n",
       "      <th>112967</th>\n",
       "      <td>Westminster</td>\n",
       "      <td>Violence Against the Person</td>\n",
       "      <td>Wounding/GBH</td>\n",
       "      <td>2016</td>\n",
       "      <td>12</td>\n",
       "      <td>2016-12</td>\n",
       "      <td>131</td>\n",
       "    </tr>\n",
       "  </tbody>\n",
       "</table>\n",
       "<p>112968 rows × 7 columns</p>\n",
       "</div>"
      ],
      "text/plain": [
       "                     borough               major_category  \\\n",
       "0       Barking and Dagenham                     Burglary   \n",
       "1       Barking and Dagenham                     Burglary   \n",
       "2       Barking and Dagenham                     Burglary   \n",
       "3       Barking and Dagenham                     Burglary   \n",
       "4       Barking and Dagenham                     Burglary   \n",
       "...                      ...                          ...   \n",
       "112963           Westminster  Violence Against the Person   \n",
       "112964           Westminster  Violence Against the Person   \n",
       "112965           Westminster  Violence Against the Person   \n",
       "112966           Westminster  Violence Against the Person   \n",
       "112967           Westminster  Violence Against the Person   \n",
       "\n",
       "                     minor_category  year  month  periode  value  \n",
       "0       Burglary in Other Buildings  2008      1  2008-01     55  \n",
       "1       Burglary in Other Buildings  2008      2  2008-02     65  \n",
       "2       Burglary in Other Buildings  2008      3  2008-03     55  \n",
       "3       Burglary in Other Buildings  2008      4  2008-04     53  \n",
       "4       Burglary in Other Buildings  2008      5  2008-05     55  \n",
       "...                             ...   ...    ...      ...    ...  \n",
       "112963                 Wounding/GBH  2016      8  2016-08     99  \n",
       "112964                 Wounding/GBH  2016      9  2016-09    105  \n",
       "112965                 Wounding/GBH  2016     10  2016-10    105  \n",
       "112966                 Wounding/GBH  2016     11  2016-11     96  \n",
       "112967                 Wounding/GBH  2016     12  2016-12    131  \n",
       "\n",
       "[112968 rows x 7 columns]"
      ]
     },
     "execution_count": 66,
     "metadata": {},
     "output_type": "execute_result"
    }
   ],
   "source": [
    "df_reduced"
   ]
  },
  {
   "cell_type": "markdown",
   "metadata": {},
   "source": [
    "Reduksi baris berhasil menurunkan jumlah baris menjadi 113 ribu, sehingga kurang dari 1% dibanding data detail.  "
   ]
  },
  {
   "cell_type": "markdown",
   "metadata": {},
   "source": [
    "## Exploratory Data Analysis"
   ]
  },
  {
   "cell_type": "markdown",
   "metadata": {},
   "source": [
    "### Preparing Visualization Tools"
   ]
  },
  {
   "cell_type": "code",
   "execution_count": 52,
   "metadata": {
    "execution": {
     "iopub.execute_input": "2022-03-05T18:53:31.802981Z",
     "iopub.status.busy": "2022-03-05T18:53:31.802650Z",
     "iopub.status.idle": "2022-03-05T18:53:31.811404Z",
     "shell.execute_reply": "2022-03-05T18:53:31.810775Z",
     "shell.execute_reply.started": "2022-03-05T18:53:31.802937Z"
    },
    "id": "y1gC9tA43nbr"
   },
   "outputs": [],
   "source": [
    "%matplotlib inline \n",
    "\n",
    "import seaborn as sns\n",
    "import matplotlib as mpl\n",
    "import matplotlib.pyplot as plt\n",
    "\n"
   ]
  },
  {
   "cell_type": "code",
   "execution_count": 53,
   "metadata": {
    "execution": {
     "iopub.execute_input": "2022-03-05T18:53:31.813063Z",
     "iopub.status.busy": "2022-03-05T18:53:31.812662Z",
     "iopub.status.idle": "2022-03-05T18:53:31.826825Z",
     "shell.execute_reply": "2022-03-05T18:53:31.826110Z",
     "shell.execute_reply.started": "2022-03-05T18:53:31.813032Z"
    },
    "id": "VPmdZzNn3nbr"
   },
   "outputs": [],
   "source": [
    "mpl.style.use(['ggplot'])"
   ]
  },
  {
   "cell_type": "markdown",
   "metadata": {
    "id": "jVbAEVwB3nbr"
   },
   "source": [
    "### Trend dan Pertumbuhan Angka Kriminalitas"
   ]
  },
  {
   "cell_type": "markdown",
   "metadata": {},
   "source": [
    "#### Trend Jumlah Kriminalitas Tahunan Se-Wilayah Administrasi London"
   ]
  },
  {
   "cell_type": "code",
   "execution_count": 69,
   "metadata": {},
   "outputs": [
    {
     "data": {
      "image/png": "[encoded data removed]",
      "text/plain": [
       "<Figure size 864x360 with 1 Axes>"
      ]
     },
     "metadata": {},
     "output_type": "display_data"
    }
   ],
   "source": [
    "plt.figure(figsize=(12, 5))\n",
    "\n",
    "df_reduced.groupby(['year'])['value'].sum().plot(kind='line')\n",
    "\n",
    "plt.title('Tren Angka Kriminalitas London Raya', pad=10)\n",
    "plt.xlabel('Tahun')\n",
    "plt.ylabel('Frekuensi Kejahatan Kriminal')\n",
    "\n",
    "plt.show();"
   ]
  },
  {
   "cell_type": "markdown",
   "metadata": {},
   "source": [
    "**Insight**\n",
    "\n",
    "Berdasarkan grafik tersebut, terlihat bahwa banyaknya tindakan kriminal yang terjadi di London Raya dari tahun ke tahun terbilang fluktuatif. Fluktiasi yang terjadi tidak terlalu besar secara presentase karena selama 9 tahun dari tahun 2008 sampai tahun 2016, angka kejadian kriminal terdapat pada rentang 680.000 hingga 740.000 kejadian. Namun, karena yang menjadi bahan analisis adalah tindak kriminalitas, penambahan dan pengurangan yang terjadi tetap sangat berarti.\n",
    "\n",
    "Berdasarkan pengamatan terhadap kenaikan dan penurunan angka kejadian, sebenarnya teramati bahwa setiap dua tahun sekali, tren kejadian berubah.\n",
    "- Pada tahun 2009 dan 2010, angka kejadian menurun, diawali penurunan tajam pada tahun 2009 dan diikuti penurunan landai pada tahun 2010. \n",
    "- Pada tahun 2011 dan 2012, angka kejadian naik dengan perubahan (kemiringan garis) yang cukup signifikan.\n",
    "- Pada tahun 2013 dan 2014, angka kejadian menurun, diawali penurunan tajam pada tahun 2013 dan diikuti penurunan lebih landai pada tahun 2014. Hal ini mirip dengan pola pada tahun 2009 dan 2010.\n",
    "- Pada tahun 2015 dan 2016, angka kejadian naik dengan perubahan (kemiringan garis) yang signifikan.\n",
    "\n",
    "Namun pola yang diamati masih dalam rentang waktu yang sangat sedikit, oleh karena itu besar kemungkinan merupakan hal yang kebetulan. Diperlukan data yang lebih luas untuk lebih meyakinkan."
   ]
  },
  {
   "cell_type": "markdown",
   "metadata": {},
   "source": [
    "#### Trend Jumlah Kriminalitas Bulanan Se-Wilayah Administrasi London"
   ]
  },
  {
   "cell_type": "code",
   "execution_count": 72,
   "metadata": {},
   "outputs": [
    {
     "data": {
      "image/png": "[encoded data removed]",
      "text/plain": [
       "<Figure size 864x360 with 1 Axes>"
      ]
     },
     "metadata": {},
     "output_type": "display_data"
    }
   ],
   "source": [
    "plt.figure(figsize=(12, 5))\n",
    "\n",
    "df_reduced.sort_values(by=['periode']).groupby(['periode'])['value'].sum().plot(kind='line');\n",
    "\n",
    "plt.title('Tren Angka Kriminalitas London Raya', pad=10)\n",
    "plt.xlabel('Periode')\n",
    "plt.ylabel('Frekuensi Kejahatan Kriminal')\n",
    "\n",
    "plt.show();"
   ]
  },
  {
   "cell_type": "markdown",
   "metadata": {},
   "source": [
    "**Insight**\n",
    "\n",
    "Berdasarkan grafik tersebut, terlihat bahwa banyaknya tindakan kriminal yang terjadi di London Raya dari tiap periodenya termasuk cukup fluktuatif (dalam satuan terkecil bulan).Tercatat jumlah kejadian tertinggi dalam satu bulan mencapai hampir 68.000 kasus, sedangkan paling rendah sekitar 51.000 kasus. Dikarenakan fluktuasi yang cukup tinggi, tidak terlihat pola yang terdapat pada grafik tren jumlah kejadian ini."
   ]
  },
  {
   "cell_type": "markdown",
   "metadata": {},
   "source": [
    "#### Trend Jumlah Kriminalitas Bulanan Se-Wilayah Administrasi London"
   ]
  },
  {
   "cell_type": "code",
   "execution_count": 75,
   "metadata": {},
   "outputs": [
    {
     "data": {
      "image/png": "[encoded data removed]",
      "text/plain": [
       "<Figure size 864x360 with 1 Axes>"
      ]
     },
     "metadata": {},
     "output_type": "display_data"
    }
   ],
   "source": [
    "plt.figure(figsize=(12, 5))\n",
    "\n",
    "df_reduced.groupby(['month'])['value'].sum().plot(kind='bar');\n",
    "\n",
    "plt.title('Disntribusi Angka Kriminalitas London Raya Berdasarkan Bulan', pad=10)\n",
    "plt.xlabel('Bulan')\n",
    "plt.ylabel('Frekuensi Kejahatan Kriminal')\n",
    "\n",
    "plt.show();"
   ]
  },
  {
   "cell_type": "code",
   "execution_count": null,
   "metadata": {},
   "outputs": [],
   "source": []
  },
  {
   "cell_type": "code",
   "execution_count": null,
   "metadata": {},
   "outputs": [],
   "source": []
  },
  {
   "cell_type": "code",
   "execution_count": 22,
   "metadata": {},
   "outputs": [
    {
     "data": {
      "text/plain": [
       "0           2016\n",
       "1           2016\n",
       "2           2015\n",
       "3           2016\n",
       "4           2008\n",
       "            ... \n",
       "13490599    2015\n",
       "13490600    2015\n",
       "13490601    2011\n",
       "13490602    2011\n",
       "13490603    2015\n",
       "Name: year, Length: 13490604, dtype: int64"
      ]
     },
     "execution_count": 22,
     "metadata": {},
     "output_type": "execute_result"
    }
   ],
   "source": [
    "df['year']"
   ]
  }
 ],
 "metadata": {
  "kernelspec": {
   "display_name": "Python 3 (ipykernel)",
   "language": "python",
   "name": "python3"
  },
  "language_info": {
   "codemirror_mode": {
    "name": "ipython",
    "version": 3
   },
   "file_extension": ".py",
   "mimetype": "text/x-python",
   "name": "python",
   "nbconvert_exporter": "python",
   "pygments_lexer": "ipython3",
   "version": "3.9.7"
  }
 },
 "nbformat": 4,
 "nbformat_minor": 4
}
